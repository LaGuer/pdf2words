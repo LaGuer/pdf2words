{
 "cells": [
  {
   "cell_type": "markdown",
   "metadata": {},
   "source": [
    "# Metadata fra Geodata-info.dk\n",
    "\n",
    "Denne notebook er tænkt til at hente data fra [geodata-info.dk](https://www.geodata-info.dk) (GDI) så egne geodata kan beriges udfra den nøgle (Identifikator) GDI tildeler deres datasæt. Det kræver således at man selv har tagget sine geodata med den nøglen og at disse kan udstilles, så data kan beriges med metadata. Vi arbejder med [Mapcentias GeoCloud2](http://www.mapcentia.com/dk/produkt/) som bruger [PostgreSQL](https://www.postgresql.org/), så derfor vil denne notebook være rettet mod at snakke med denne platform. \n",
    "\n",
    "### Om Geodata-info.dk\n",
    "Geodata-info.dk er den danske geoportal, der gør det muligt for professionelle brugere samt borgere med interesse for geodata at søge efter geodatasæt og geodatatjenester. Geodata-info.dk omfatter desuden den danske søgetjeneste i henhold til INSPIRE-direktivet (Forordning nr. 976/2009 for så vidt angår nettjenesterne)."
   ]
  },
  {
   "cell_type": "code",
   "execution_count": 1,
   "metadata": {},
   "outputs": [],
   "source": [
    "import requests\n",
    "import xml.etree.ElementTree as ET"
   ]
  },
  {
   "cell_type": "markdown",
   "metadata": {},
   "source": [
    "### Identifikator fra GDI"
   ]
  },
  {
   "cell_type": "code",
   "execution_count": 3,
   "metadata": {},
   "outputs": [],
   "source": [
    "gid = 'fb9e06dc-9f02-42ac-bf1c-e0d662b81f4f'"
   ]
  },
  {
   "cell_type": "code",
   "execution_count": 4,
   "metadata": {},
   "outputs": [],
   "source": [
    "url = f\"https://geodata-info.dk/srv/api/records/{gid}/formatters/xml\"\n",
    "r = requests.request(\"GET\", url)"
   ]
  },
  {
   "cell_type": "markdown",
   "metadata": {},
   "source": [
    "### Beskrivelse af datasættet trækkes ud"
   ]
  },
  {
   "cell_type": "code",
   "execution_count": 5,
   "metadata": {},
   "outputs": [],
   "source": [
    "root = ET.fromstring(r.text)"
   ]
  },
  {
   "cell_type": "code",
   "execution_count": 6,
   "metadata": {},
   "outputs": [],
   "source": [
    "namespaces = {\n",
    "    'gmd': 'http://www.isotc211.org/2005/gmd',\n",
    "    'gco': 'http://www.isotc211.org/2005/gco'\n",
    "}"
   ]
  },
  {
   "cell_type": "code",
   "execution_count": 7,
   "metadata": {},
   "outputs": [],
   "source": [
    "path = \"gmd:identificationInfo/gmd:MD_DataIdentification/gmd:abstract/gco:CharacterString\""
   ]
  },
  {
   "cell_type": "code",
   "execution_count": 8,
   "metadata": {},
   "outputs": [],
   "source": [
    "abstact = root.find(path, namespaces)"
   ]
  },
  {
   "cell_type": "code",
   "execution_count": 9,
   "metadata": {},
   "outputs": [
    {
     "data": {
      "text/plain": [
       "'Registrering af naturtyper, som er beskyttet efter naturbeskyttelseslovens § 3.\\n\\nDisse er:\\n·          søer og vandhuller med et areal på mindst 100 m2, \\n·          moser, enge, strandenge, strandsumpe, heder og overdrev med et areal på mindst 2500 m2,\\n·          \"mosaikker\" af ovennævnte naturtyper med et areal på mindst 2500 m2,\\n·          visse udpegede vandløb  & \\n·          alle moser i f. m. beskyttede vandhuller, søer eller vandløb.\\nBeskyttelsen gælder uanset om der er en eller flere ejere. Tilstandsændring af beskyttet natur kræver tilladelse (dispensation).\\nEt beskyttet areal kan i årenes løb ændre sig så meget, at det ikke længere er beskyttet. Omvendt kan et areal som i dag ikke er beskyttet, ændre sig, så det bliver det.\\nDet er de faktiske forhold på arealet (størrelse, botanik, omlægningshyppighed m. m.) der afgør, om det er beskyttet eller ej. Registreringen er derfor vejledende\\nHvorvidt et areal er beskyttet eller ej, vil i tvivlstilfælde blive afgjort ved en besigtigelse og vurdering af arealet.\\nLov om naturbeskyttelse, §3, lovbekendtgørelse nr. 933 af 24. september 2009'"
      ]
     },
     "execution_count": 9,
     "metadata": {},
     "output_type": "execute_result"
    }
   ],
   "source": [
    "abstact.text"
   ]
  }
 ],
 "metadata": {
  "kernelspec": {
   "display_name": "Python 3",
   "language": "python",
   "name": "python3"
  },
  "language_info": {
   "codemirror_mode": {
    "name": "ipython",
    "version": 3
   },
   "file_extension": ".py",
   "mimetype": "text/x-python",
   "name": "python",
   "nbconvert_exporter": "python",
   "pygments_lexer": "ipython3",
   "version": "3.6.6"
  }
 },
 "nbformat": 4,
 "nbformat_minor": 2
}
